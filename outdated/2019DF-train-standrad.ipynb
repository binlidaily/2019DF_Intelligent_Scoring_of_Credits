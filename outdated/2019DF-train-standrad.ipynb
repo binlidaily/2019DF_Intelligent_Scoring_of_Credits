{
 "cells": [
  {
   "cell_type": "code",
   "execution_count": 103,
   "metadata": {},
   "outputs": [],
   "source": [
    "# import packages\n",
    "import pandas as pd\n",
    "import seaborn as sns\n",
    "import numpy as np\n",
    "# from matplotlib.font_manager import FontProperties\n",
    "import matplotlib.pyplot as plt\n",
    "# myfont = FontProperties(fname='/usr/local/lib/python2.7/site-packages/matplotlib/mpl-data/fonts/ttf/SimHei.ttf')\n",
    "\n",
    "# import sys\n",
    "# reload(sys)\n",
    "# sys.setdefaultencoding('utf-8')\n",
    "\n",
    "import sys\n",
    "stdout = sys.stdout\n",
    "reload(sys)\n",
    "sys.setdefaultencoding('utf-8')\n",
    "sys.stdout = stdout\n",
    "\n",
    "plt.rcParams['font.sans-serif'] = ['SimHei'] # 用来正常显示中文标签\n",
    "plt.rcParams['axes.unicode_minus'] = False # 用来正常显示负号\n",
    "# plt.plot([-1,2,-5,3])\n",
    "# plt.title(u'中文',fontproperties=myfont)\n",
    "# plt.show()"
   ]
  },
  {
   "cell_type": "code",
   "execution_count": 104,
   "metadata": {},
   "outputs": [],
   "source": [
    "from sklearn.model_selection import StratifiedKFold\n",
    "from sklearn.preprocessing import LabelEncoder\n",
    "import lightgbm as lgb"
   ]
  },
  {
   "cell_type": "code",
   "execution_count": 105,
   "metadata": {},
   "outputs": [],
   "source": [
    "# load data\n",
    "data_dir = '../dataset/DataFountain2019-消费者人群画像/'\n",
    "train_df = pd.read_csv(data_dir + 'train_dataset.csv')\n",
    "test_df = pd.read_csv(data_dir + 'test_dataset.csv')"
   ]
  },
  {
   "cell_type": "markdown",
   "metadata": {},
   "source": [
    "## Data Cleaning"
   ]
  },
  {
   "cell_type": "code",
   "execution_count": 106,
   "metadata": {},
   "outputs": [
    {
     "name": "stdout",
     "output_type": "stream",
     "text": [
      "Index([u'用户编码', u'用户实名制是否通过核实', u'用户年龄', u'是否大学生客户', u'是否黑名单客户', u'是否4G不健康客户',\n",
      "       u'用户网龄（月）', u'用户最近一次缴费距今时长（月）', u'缴费用户最近一次缴费金额（元）', u'用户近6个月平均消费值（元）',\n",
      "       u'用户账单当月总费用（元）', u'用户当月账户余额（元）', u'缴费用户当前是否欠费缴费', u'用户话费敏感度',\n",
      "       u'当月通话交往圈人数', u'是否经常逛商场的人', u'近三个月月均商场出现次数', u'当月是否逛过福州仓山万达',\n",
      "       u'当月是否到过福州山姆会员店', u'当月是否看电影', u'当月是否景点游览', u'当月是否体育场馆消费',\n",
      "       u'当月网购类应用使用次数', u'当月物流快递类应用使用次数', u'当月金融理财类应用使用总次数', u'当月视频播放类应用使用次数',\n",
      "       u'当月飞机类应用使用次数', u'当月火车类应用使用次数', u'当月旅游资讯类应用使用次数', u'信用分'],\n",
      "      dtype='object')\n",
      "Index([u'uid', u'true_name_flag', u'age', u'uni_student_flag',\n",
      "       u'blk_list_flag', u'4g_unhealth_flag', u'net_age_till_now',\n",
      "       u'top_up_month_diff', u'top_up_amount', u'recent_6month_avg_use',\n",
      "       u'total_account_fee', u'curr_month_balance', u'curr_overdue_flag',\n",
      "       u'cost_sensitivity', u'connect_num', u'freq_shopping_flag',\n",
      "       u'recent_3month_shopping_count', u'wanda_flag', u'sam_flag',\n",
      "       u'movie_flag', u'tour_flag', u'sport_flag', u'online_shopping_count',\n",
      "       u'express_count', u'finance_app_count', u'video_app_count',\n",
      "       u'flight_count', u'train_count', u'tour_app_count', u'score'],\n",
      "      dtype='object') 30\n"
     ]
    }
   ],
   "source": [
    "# print train_df.describe()\n",
    "# print train_df.info()\n",
    "print train_df.columns \n",
    "# substitue the column names\n",
    "train_df.columns = ['uid','true_name_flag','age','uni_student_flag','blk_list_flag',\\\n",
    "                     '4g_unhealth_flag','net_age_till_now','top_up_month_diff','top_up_amount',\\\n",
    "                     'recent_6month_avg_use','total_account_fee','curr_month_balance',\\\n",
    "                     'curr_overdue_flag','cost_sensitivity','connect_num','freq_shopping_flag',\\\n",
    "                     'recent_3month_shopping_count','wanda_flag','sam_flag','movie_flag',\\\n",
    "                     'tour_flag','sport_flag','online_shopping_count','express_count',\\\n",
    "                     'finance_app_count','video_app_count','flight_count','train_count',\\\n",
    "                     'tour_app_count','score']\n",
    "test_df.columns = train_df.columns[:-1]\n",
    "print train_df.columns, len(train_df.columns)"
   ]
  },
  {
   "cell_type": "code",
   "execution_count": 107,
   "metadata": {},
   "outputs": [
    {
     "name": "stdout",
     "output_type": "stream",
     "text": [
      "12 16\n",
      "31\n"
     ]
    }
   ],
   "source": [
    "# Categorical features\n",
    "categorical_cols = ['4g_unhealth_flag', 'blk_list_flag', 'cost_sensitivity', 'curr_overdue_flag', 'freq_shopping_flag',\n",
    "                   'movie_flag', 'tour_flag', 'sport_flag', 'sam_flag', 'true_name_flag', \n",
    "                    'wanda_flag', 'uni_student_flag']\n",
    "numerical_cols = ['age', 'net_age_till_now', 'top_up_amount', 'recent_6month_avg_use',\n",
    "                 'total_account_fee', 'curr_month_balance', 'connect_num', 'recent_3month_shopping_count',\n",
    "                 'online_shopping_count', 'express_count', 'finance_app_count', 'video_app_count', 'flight_count',\n",
    "                 'train_count', 'tour_app_count', 'top_up_month_diff']\n",
    "drop_cols = ['uid', 'blk_list_flag']\n",
    "target = ['score']\n",
    "print len(categorical_cols), len(numerical_cols)\n",
    "print len(categorical_cols)+len(numerical_cols)+len(drop_cols)+len(target)"
   ]
  },
  {
   "cell_type": "code",
   "execution_count": 108,
   "metadata": {},
   "outputs": [
    {
     "name": "stdout",
     "output_type": "stream",
     "text": [
      "set(['score', 'uid'])\n"
     ]
    }
   ],
   "source": [
    "# print train_df['age'][train_df['age']<16].value_counts()\n",
    "# print train_df['age'][train_df['age']>100].value_counts()\n",
    "# print set(train_df.columns.values)^set(numerical_cols)\n",
    "# check the col_names are right\n",
    "print set(train_df.columns.values) - set(numerical_cols) - set(categorical_cols)"
   ]
  },
  {
   "cell_type": "code",
   "execution_count": null,
   "metadata": {},
   "outputs": [],
   "source": []
  },
  {
   "cell_type": "markdown",
   "metadata": {},
   "source": [
    "## Feature Engineering\n"
   ]
  },
  {
   "cell_type": "markdown",
   "metadata": {},
   "source": [
    "### 1. feature value processing"
   ]
  },
  {
   "cell_type": "markdown",
   "metadata": {},
   "source": [
    "#### 1.1 age\n",
    "看到有 age 为0和超过100的用户，这一部分的用户很明显信息是不准确的，那么在一定程度上来讲，他们的信用分不会太高。那么把他们处理成平均年龄。\n",
    "\n",
    "改了反而得分降低了，线上线下都有降低，所以不能这么处理，在查看了 test_df 中也是有类似的情况后，就采取保留措施。"
   ]
  },
  {
   "cell_type": "code",
   "execution_count": 109,
   "metadata": {},
   "outputs": [],
   "source": [
    "# train_df['age'][train_df['age']<6] = train_df['age'].mean()\n",
    "# train_df['age'][train_df['age']>100] = train_df['age'].mean()"
   ]
  },
  {
   "cell_type": "markdown",
   "metadata": {},
   "source": [
    "##### 1.2  '缴费用户最近一次缴费金额（元）'--(top_up_amount)\n",
    "通过 EDA 知道，这个特征与 score_qcut 强线性相关。观察看到充值数字有整数和小数，可能是充值方式不同，作为一个新特征试一下，"
   ]
  },
  {
   "cell_type": "code",
   "execution_count": 110,
   "metadata": {},
   "outputs": [],
   "source": [
    "def produce_top_up_amount_feat(data_df):\n",
    "    data_df['top_up_amount_new'] = 0\n",
    "    data_df['top_up_amount_new'][(data_df['top_up_amount'] % 10 == 0) & (data_df['top_up_amount'] != 0)] = 1\n",
    "    return data_df"
   ]
  },
  {
   "cell_type": "code",
   "execution_count": null,
   "metadata": {},
   "outputs": [],
   "source": []
  },
  {
   "cell_type": "markdown",
   "metadata": {},
   "source": [
    "### 2. 数值特征的简单变换 Feature Construction\n"
   ]
  },
  {
   "cell_type": "markdown",
   "metadata": {},
   "source": [
    "#### 2.1 ratio feature\n",
    "###### 2.1.1 top_up_amount / curr_month_balance\n",
    "'缴费用户最近一次缴费金额（元）'/'用户当月账户余额（元）'--(top_up_amount) / curr_month_balance 充值金额和当前月的比例\n",
    "\n",
    "这个特征并没有什么提升。"
   ]
  },
  {
   "cell_type": "code",
   "execution_count": 111,
   "metadata": {},
   "outputs": [],
   "source": [
    "def produce_amount_balance_ratio_feat(data_df):\n",
    "    data_df['amount_balance_ratio'] = data_df['top_up_amount'] / (data_df['curr_month_balance'] + 1)\n",
    "    return data_df"
   ]
  },
  {
   "cell_type": "markdown",
   "metadata": {},
   "source": [
    "###### 2.1.2 total_account_fee / curr_month_balance\n",
    "'用户账单当月总费用（元）'/ '用户当月账户余额（元）' (total_account_fee/curr_month_balance)\n",
    "\n",
    "有一定提升"
   ]
  },
  {
   "cell_type": "code",
   "execution_count": 112,
   "metadata": {},
   "outputs": [],
   "source": [
    "def produce_fee_balance_ratio_feat(data_df):\n",
    "    data_df['fee_balance_ratio'] = data_df['total_account_fee'] / (data_df['curr_month_balance'] + 1)\n",
    "    return data_df"
   ]
  },
  {
   "cell_type": "markdown",
   "metadata": {},
   "source": [
    "##### 2.1.3 total_account_fee / recent_6month_avg_use\n",
    "'用户账单当月总费用（元）'/ '用户近6个月平均消费值（元）'（total_account_fee/recent_6month_avg_use）\n",
    "\n",
    "有较大提升。"
   ]
  },
  {
   "cell_type": "code",
   "execution_count": 113,
   "metadata": {},
   "outputs": [],
   "source": [
    "# def produce_amount_use_ratio_feat(data_df):\n",
    "#     data_df['amount_use_ratio'] = data_df['total_account_fee'] / (data_df['recent_6month_avg_use'] + 1)\n",
    "#     return data_df"
   ]
  },
  {
   "cell_type": "markdown",
   "metadata": {},
   "source": [
    "##### 2.1.4 age / net_age_till_now\n",
    "'用户年龄'/ '用户网龄（月）'（total_account_fee/recent_6month_avg_use）"
   ]
  },
  {
   "cell_type": "code",
   "execution_count": 114,
   "metadata": {},
   "outputs": [],
   "source": [
    "def produce_age_net_ratio_feat(data_df):\n",
    "    data_df['age_net_ratio'] = data_df['age'] * 12 / (data_df['net_age_till_now'] + 1)\n",
    "    return data_df"
   ]
  },
  {
   "cell_type": "markdown",
   "metadata": {},
   "source": [
    "###### 2.1.5 total_account_fee / top_up_amount\n",
    "'用户账单当月总费用（元）'/ '缴费用户最近一次缴费金额（元）' (total_account_fee/top_up_amount)\n",
    "\n",
    "线下有较大提升"
   ]
  },
  {
   "cell_type": "code",
   "execution_count": 115,
   "metadata": {},
   "outputs": [],
   "source": [
    "def produce_fee_top_ratio_feat(data_df):\n",
    "    data_df['fee_top_ratio'] = data_df['total_account_fee'] * 12 / (data_df['top_up_amount'] + 1)\n",
    "    return data_df"
   ]
  },
  {
   "cell_type": "markdown",
   "metadata": {},
   "source": [
    "###### 2.1.6 recent_6month_avg_use / top_up_amount\n",
    " '用户近6个月平均消费值（元）'/ '缴费用户最近一次缴费金额（元）' (recent_6month_avg_use / top_up_amount)"
   ]
  },
  {
   "cell_type": "code",
   "execution_count": 116,
   "metadata": {},
   "outputs": [],
   "source": [
    "def produce_use_top_ratio_feat(data_df):\n",
    "    data_df['use_top_ratio'] = data_df['recent_6month_avg_use'] * 12 / (data_df['top_up_amount'] + 1)\n",
    "    return data_df"
   ]
  },
  {
   "cell_type": "markdown",
   "metadata": {},
   "source": [
    "###### 2.1.7 recent_6month_avg_use / curr_month_balance\n",
    " '用户近6个月平均消费值（元）'/ '用户当月账户余额（元）' (recent_6month_avg_use / curr_month_balance)"
   ]
  },
  {
   "cell_type": "code",
   "execution_count": 117,
   "metadata": {},
   "outputs": [],
   "source": [
    "def produce_use_balance_ratio_feat(data_df):\n",
    "    data_df['use_balance_ratio'] = data_df['recent_6month_avg_use'] * 12 / (data_df['curr_month_balance'] + 1)\n",
    "    return data_df"
   ]
  },
  {
   "cell_type": "code",
   "execution_count": 118,
   "metadata": {},
   "outputs": [],
   "source": [
    "# combine the ratio features\n",
    "def produce_ratio_feats(data_df):\n",
    "    # 2.1.1 '缴费用户最近一次缴费金额（元）'/'用户当月账户余额（元） top_up_amount / curr_month_balance\n",
    "    data_df = produce_amount_balance_ratio_feat(data_df)\n",
    "    \n",
    "    # 2.1.2 '用户账单当月总费用（元）'/ '用户当月账户余额（元）'  total_account_fee / curr_month_balance\n",
    "    data_df = produce_fee_balance_ratio_feat(data_df)\n",
    "    \n",
    "    # 2.1.3 '用户账单当月总费用（元）'/ '用户近6个月平均消费值  top_up_amount / recent_6month_avg_use\n",
    "#     data_df = produce_amount_use_ratio_feat(data_df)\n",
    "    \n",
    "    # 2.1.4 '用户年龄'/ '用户网龄（月）'  age / net_age_till_now\n",
    "    data_df = produce_age_net_ratio_feat(data_df)\n",
    "    \n",
    "    # 2.1.5 total_account_fee / top_up_amount\n",
    "    data_df = produce_fee_top_ratio_feat(data_df)\n",
    "    \n",
    "    # 2.1.6 recent_6month_avg_use / top_up_amount\n",
    "    data_df = produce_use_top_ratio_feat(data_df)\n",
    "    \n",
    "    # 2.1.7 recent_6month_avg_use / curr_month_balance\n",
    "#     data_df = produce_use_balance_ratio_feat(data_df)\n",
    "    return data_df"
   ]
  },
  {
   "cell_type": "markdown",
   "metadata": {},
   "source": [
    "### 3. 类别特征与数值特征的组合"
   ]
  },
  {
   "cell_type": "code",
   "execution_count": null,
   "metadata": {},
   "outputs": [],
   "source": []
  },
  {
   "cell_type": "code",
   "execution_count": null,
   "metadata": {},
   "outputs": [],
   "source": []
  },
  {
   "cell_type": "markdown",
   "metadata": {},
   "source": [
    "#### 2.2 add features\n"
   ]
  },
  {
   "cell_type": "code",
   "execution_count": 119,
   "metadata": {},
   "outputs": [],
   "source": [
    "# 缴费用户最近一次缴费金额（元） 整数 or not\n",
    "train_df = produce_top_up_amount_feat(train_df)\n",
    "test_df = produce_top_up_amount_feat(test_df)"
   ]
  },
  {
   "cell_type": "code",
   "execution_count": 120,
   "metadata": {},
   "outputs": [],
   "source": [
    "train_df = produce_ratio_feats(train_df)\n",
    "test_df = produce_ratio_feats(test_df)"
   ]
  },
  {
   "cell_type": "code",
   "execution_count": null,
   "metadata": {},
   "outputs": [],
   "source": []
  },
  {
   "cell_type": "markdown",
   "metadata": {},
   "source": [
    "## Training"
   ]
  },
  {
   "cell_type": "code",
   "execution_count": 121,
   "metadata": {},
   "outputs": [],
   "source": [
    "# LightGBM params\n",
    "params = {\n",
    "    'learning_rate': 0.01,\n",
    "    'boosting_type': 'gbdt',\n",
    "    'objective': 'regression_l1',\n",
    "    'metric': 'mae',\n",
    "    'feature_fraction': 0.6,\n",
    "    'bagging_fraction': 0.8,\n",
    "    'bagging_freq': 2,\n",
    "    'num_leaves': 31,\n",
    "    'verbose': -1,\n",
    "    'max_depth': 5,\n",
    "    'lambda_l2': 5, 'lambda_l1': 0\n",
    "}"
   ]
  },
  {
   "cell_type": "code",
   "execution_count": 122,
   "metadata": {},
   "outputs": [
    {
     "name": "stdout",
     "output_type": "stream",
     "text": [
      "Index([u'uid', u'true_name_flag', u'age', u'uni_student_flag',\n",
      "       u'blk_list_flag', u'4g_unhealth_flag', u'net_age_till_now',\n",
      "       u'top_up_month_diff', u'top_up_amount', u'recent_6month_avg_use',\n",
      "       u'total_account_fee', u'curr_month_balance', u'curr_overdue_flag',\n",
      "       u'cost_sensitivity', u'connect_num', u'freq_shopping_flag',\n",
      "       u'recent_3month_shopping_count', u'wanda_flag', u'sam_flag',\n",
      "       u'movie_flag', u'tour_flag', u'sport_flag', u'online_shopping_count',\n",
      "       u'express_count', u'finance_app_count', u'video_app_count',\n",
      "       u'flight_count', u'train_count', u'tour_app_count', u'score',\n",
      "       u'top_up_amount_new', u'amount_balance_ratio', u'fee_balance_ratio',\n",
      "       u'age_net_ratio', u'fee_top_ratio', u'use_top_ratio'],\n",
      "      dtype='object') 36\n"
     ]
    }
   ],
   "source": [
    "# drop useless features\n",
    "print train_df.columns, len(train_df.columns)\n",
    "X = train_df.drop(drop_cols + ['score'], axis=1)\n",
    "X_submit = test_df.drop(drop_cols, axis=1)"
   ]
  },
  {
   "cell_type": "code",
   "execution_count": 123,
   "metadata": {},
   "outputs": [],
   "source": [
    "# k-cv\n",
    "N_FOLDS = 5\n",
    "y = train_df['score']\n",
    "kfold = StratifiedKFold(n_splits=N_FOLDS, shuffle=True, random_state=2019)\n",
    "kf = kfold.split(X, y)"
   ]
  },
  {
   "cell_type": "code",
   "execution_count": 124,
   "metadata": {},
   "outputs": [
    {
     "name": "stdout",
     "output_type": "stream",
     "text": [
      "('fold: ', 0, ' training')\n",
      "Training until validation scores don't improve for 50 rounds.\n",
      "Early stopping, best iteration is:\n",
      "[2205]\tvalid_0's l1: 14.8327\n",
      "('fold: ', 1, ' training')\n",
      "Training until validation scores don't improve for 50 rounds.\n",
      "Early stopping, best iteration is:\n",
      "[2348]\tvalid_0's l1: 14.712\n",
      "('fold: ', 2, ' training')\n",
      "Training until validation scores don't improve for 50 rounds.\n",
      "Early stopping, best iteration is:\n",
      "[2462]\tvalid_0's l1: 14.813\n",
      "('fold: ', 3, ' training')\n",
      "Training until validation scores don't improve for 50 rounds.\n",
      "Early stopping, best iteration is:\n",
      "[2906]\tvalid_0's l1: 14.518\n",
      "('fold: ', 4, ' training')\n",
      "Training until validation scores don't improve for 50 rounds.\n",
      "Early stopping, best iteration is:\n",
      "[3313]\tvalid_0's l1: 14.8468\n",
      "('cv score for valid is: ', 0.063514265393465136)\n"
     ]
    }
   ],
   "source": [
    "# process the k-cv\n",
    "cv_pred = np.zeros(test_df.shape[0])\n",
    "valid_best_l2_all = 0\n",
    "\n",
    "feature_importance_df = pd.DataFrame()\n",
    "count = 0\n",
    "for i, (train_idx, test_idx) in enumerate(kf):\n",
    "    print('fold: ',i, ' training')\n",
    "    X_train, X_test, y_train, y_test = X.iloc[train_idx, :], X.iloc[test_idx, :], y.iloc[train_idx], y.iloc[test_idx]\n",
    "    data_train = lgb.Dataset(X_train, y_train)\n",
    "    data_test = lgb.Dataset(X_test, y_test)\n",
    "    lgb_model = lgb.train(params, data_train, num_boost_round=10000, valid_sets=data_test, \n",
    "                          verbose_eval=-1, early_stopping_rounds=50)\n",
    "    cv_pred = lgb_model.predict(X_submit, num_iteration=lgb_model.best_iteration)\n",
    "    valid_best_l2_all += lgb_model.best_score['valid_0']['l1']\n",
    "    \n",
    "    fold_importance_df = pd.DataFrame()\n",
    "    fold_importance_df[\"feature\"] = list(X_train.columns)\n",
    "    fold_importance_df[\"importance\"] = lgb_model.feature_importance(importance_type='gain', iteration=lgb_model.best_iteration)\n",
    "    fold_importance_df[\"fold\"] = count + 1\n",
    "    feature_importance_df = pd.concat([feature_importance_df, fold_importance_df], axis=0)\n",
    "    count += 1\n",
    "    \n",
    "cv_pred /= N_FOLDS\n",
    "valid_best_l2_all /= N_FOLDS\n",
    "print('cv score for valid is: ', 1/(1+valid_best_l2_all))"
   ]
  },
  {
   "cell_type": "code",
   "execution_count": 125,
   "metadata": {},
   "outputs": [],
   "source": [
    "def display_importances(feature_importance_df_):\n",
    "    cols = feature_importance_df_[[\"feature\", \"importance\"]].groupby(\"feature\").mean().sort_values(by=\"importance\", ascending=False)[:40].index\n",
    "    best_features = feature_importance_df_.loc[feature_importance_df_.feature.isin(cols)]\n",
    "    plt.figure(figsize=(8, 10))\n",
    "    sns.barplot(x=\"importance\", y=\"feature\", data=best_features.sort_values(by=\"importance\", ascending=False))\n",
    "    plt.title('LightGBM Features (avg over folds)')\n",
    "    plt.tight_layout()\n",
    "    plt.show()"
   ]
  },
  {
   "cell_type": "code",
   "execution_count": 126,
   "metadata": {},
   "outputs": [
    {
     "data": {
      "image/png": "[encoded data removed]",
      "text/plain": [
       "<matplotlib.figure.Figure at 0x7f566e95a650>"
      ]
     },
     "metadata": {
      "needs_background": "light"
     },
     "output_type": "display_data"
    }
   ],
   "source": [
    "display_importances(feature_importance_df)"
   ]
  },
  {
   "cell_type": "code",
   "execution_count": null,
   "metadata": {},
   "outputs": [],
   "source": []
  },
  {
   "cell_type": "markdown",
   "metadata": {},
   "source": [
    "## Submit"
   ]
  },
  {
   "cell_type": "code",
   "execution_count": 127,
   "metadata": {},
   "outputs": [],
   "source": [
    "submit_df = test_df[['uid']]\n",
    "submit_df['score'] = cv_pred\n",
    "submit_df.columns = ['id', 'score']\n",
    "\n",
    "# int\n",
    "submit_df['score'] = submit_df['score'].apply(lambda x: int(np.round(x)))\n",
    "submit_df.to_csv('./submission/baseline_2019-03-01T07:45:47_0.063514265393465136.csv', index=False)"
   ]
  },
  {
   "cell_type": "code",
   "execution_count": 77,
   "metadata": {},
   "outputs": [
    {
     "data": {
      "text/html": [
       "<div>\n",
       "<style scoped>\n",
       "    .dataframe tbody tr th:only-of-type {\n",
       "        vertical-align: middle;\n",
       "    }\n",
       "\n",
       "    .dataframe tbody tr th {\n",
       "        vertical-align: top;\n",
       "    }\n",
       "\n",
       "    .dataframe thead th {\n",
       "        text-align: right;\n",
       "    }\n",
       "</style>\n",
       "<table border=\"1\" class=\"dataframe\">\n",
       "  <thead>\n",
       "    <tr style=\"text-align: right;\">\n",
       "      <th></th>\n",
       "      <th>id</th>\n",
       "      <th>score</th>\n",
       "    </tr>\n",
       "  </thead>\n",
       "  <tbody>\n",
       "    <tr>\n",
       "      <th>0</th>\n",
       "      <td>7171737d49b143d1b38883a39e4a5730</td>\n",
       "      <td>121</td>\n",
       "    </tr>\n",
       "    <tr>\n",
       "      <th>1</th>\n",
       "      <td>3af0a449d5424488912e8fb2bf4b9faa</td>\n",
       "      <td>107</td>\n",
       "    </tr>\n",
       "    <tr>\n",
       "      <th>2</th>\n",
       "      <td>eb2cf02e0d5c4d1294dd73e776dbb441</td>\n",
       "      <td>134</td>\n",
       "    </tr>\n",
       "    <tr>\n",
       "      <th>3</th>\n",
       "      <td>9c0f780ecb254670a11aa9e3f10777c5</td>\n",
       "      <td>135</td>\n",
       "    </tr>\n",
       "    <tr>\n",
       "      <th>4</th>\n",
       "      <td>d794eed46c1e44f785a575f18b3023a5</td>\n",
       "      <td>131</td>\n",
       "    </tr>\n",
       "    <tr>\n",
       "      <th>5</th>\n",
       "      <td>18f6a7d824a1421b9da3e5f10854c3df</td>\n",
       "      <td>123</td>\n",
       "    </tr>\n",
       "    <tr>\n",
       "      <th>6</th>\n",
       "      <td>e7b63888a36f499a88811c0936bb12df</td>\n",
       "      <td>128</td>\n",
       "    </tr>\n",
       "    <tr>\n",
       "      <th>7</th>\n",
       "      <td>f995ef4d96fc426191a104421b0f5b20</td>\n",
       "      <td>115</td>\n",
       "    </tr>\n",
       "    <tr>\n",
       "      <th>8</th>\n",
       "      <td>11a3ce45ce234f7db4e91e5f152dc8b8</td>\n",
       "      <td>135</td>\n",
       "    </tr>\n",
       "    <tr>\n",
       "      <th>9</th>\n",
       "      <td>86ebeac087284c87bbcb1281d95ef9eb</td>\n",
       "      <td>116</td>\n",
       "    </tr>\n",
       "  </tbody>\n",
       "</table>\n",
       "</div>"
      ],
      "text/plain": [
       "                                 id  score\n",
       "0  7171737d49b143d1b38883a39e4a5730    121\n",
       "1  3af0a449d5424488912e8fb2bf4b9faa    107\n",
       "2  eb2cf02e0d5c4d1294dd73e776dbb441    134\n",
       "3  9c0f780ecb254670a11aa9e3f10777c5    135\n",
       "4  d794eed46c1e44f785a575f18b3023a5    131\n",
       "5  18f6a7d824a1421b9da3e5f10854c3df    123\n",
       "6  e7b63888a36f499a88811c0936bb12df    128\n",
       "7  f995ef4d96fc426191a104421b0f5b20    115\n",
       "8  11a3ce45ce234f7db4e91e5f152dc8b8    135\n",
       "9  86ebeac087284c87bbcb1281d95ef9eb    116"
      ]
     },
     "execution_count": 77,
     "metadata": {},
     "output_type": "execute_result"
    }
   ],
   "source": [
    "submit_df.head(10)"
   ]
  },
  {
   "cell_type": "code",
   "execution_count": 46,
   "metadata": {},
   "outputs": [],
   "source": [
    "# data_dummies = pd.get_dummies(train_df[numerical_cols])\n",
    "# data_dummies.head(20)"
   ]
  },
  {
   "cell_type": "code",
   "execution_count": null,
   "metadata": {},
   "outputs": [],
   "source": []
  }
 ],
 "metadata": {
  "kernelspec": {
   "display_name": "Python 2",
   "language": "python",
   "name": "python2"
  },
  "language_info": {
   "codemirror_mode": {
    "name": "ipython",
    "version": 2
   },
   "file_extension": ".py",
   "mimetype": "text/x-python",
   "name": "python",
   "nbconvert_exporter": "python",
   "pygments_lexer": "ipython2",
   "version": "2.7.15"
  }
 },
 "nbformat": 4,
 "nbformat_minor": 2
}
